{
  "nbformat": 4,
  "nbformat_minor": 0,
  "metadata": {
    "colab": {
      "provenance": []
    },
    "kernelspec": {
      "name": "python3",
      "display_name": "Python 3"
    },
    "language_info": {
      "name": "python"
    }
  },
  "cells": [
    {
      "cell_type": "code",
      "source": [
        "pip install sounddevice\n"
      ],
      "metadata": {
        "colab": {
          "base_uri": "https://localhost:8080/"
        },
        "id": "EvBww6gevouI",
        "outputId": "22195409-60fb-4cea-9bba-947a4d02e00a"
      },
      "execution_count": null,
      "outputs": [
        {
          "output_type": "stream",
          "name": "stdout",
          "text": [
            "Looking in indexes: https://pypi.org/simple, https://us-python.pkg.dev/colab-wheels/public/simple/\n",
            "Requirement already satisfied: sounddevice in /usr/local/lib/python3.9/dist-packages (0.4.6)\n",
            "Requirement already satisfied: CFFI>=1.0 in /usr/local/lib/python3.9/dist-packages (from sounddevice) (1.15.1)\n",
            "Requirement already satisfied: pycparser in /usr/local/lib/python3.9/dist-packages (from CFFI>=1.0->sounddevice) (2.21)\n"
          ]
        }
      ]
    },
    {
      "cell_type": "markdown",
      "source": [
        "  Secured audio signal and voice message transmission using hybrid algorithm"
      ],
      "metadata": {
        "id": "gLzlGP6_adYM"
      }
    },
    {
      "cell_type": "code",
      "source": [
        "!apt-get install libasound-dev portaudio19-dev libportaudio2 libportaudiocpp0\n",
        "!pip install pyaudio\n"
      ],
      "metadata": {
        "colab": {
          "base_uri": "https://localhost:8080/"
        },
        "id": "S1P6YdyQ5fIi",
        "outputId": "478fffa5-936b-4d13-ec9d-21565805b916"
      },
      "execution_count": null,
      "outputs": [
        {
          "output_type": "stream",
          "name": "stdout",
          "text": [
            "Reading package lists... Done\n",
            "Building dependency tree       \n",
            "Reading state information... Done\n",
            "Note, selecting 'libasound2-dev' instead of 'libasound-dev'\n",
            "libportaudio2 is already the newest version (19.6.0-1build1).\n",
            "libportaudiocpp0 is already the newest version (19.6.0-1build1).\n",
            "portaudio19-dev is already the newest version (19.6.0-1build1).\n",
            "libasound2-dev is already the newest version (1.2.2-2.1ubuntu2.5).\n",
            "0 upgraded, 0 newly installed, 0 to remove and 23 not upgraded.\n",
            "Looking in indexes: https://pypi.org/simple, https://us-python.pkg.dev/colab-wheels/public/simple/\n",
            "Requirement already satisfied: pyaudio in /usr/local/lib/python3.9/dist-packages (0.2.13)\n"
          ]
        }
      ]
    },
    {
      "cell_type": "code",
      "source": [
        "!pip install AES"
      ],
      "metadata": {
        "colab": {
          "base_uri": "https://localhost:8080/"
        },
        "id": "zyxoI-3T5482",
        "outputId": "31afb81e-764c-4250-87dd-2a137d387c9a"
      },
      "execution_count": null,
      "outputs": [
        {
          "output_type": "stream",
          "name": "stdout",
          "text": [
            "Looking in indexes: https://pypi.org/simple, https://us-python.pkg.dev/colab-wheels/public/simple/\n",
            "Collecting AES\n",
            "  Downloading aes-1.2.0-py3-none-any.whl (13 kB)\n",
            "Installing collected packages: AES\n",
            "Successfully installed AES-1.2.0\n"
          ]
        }
      ]
    },
    {
      "cell_type": "code",
      "source": [
        "!pip install Crypto"
      ],
      "metadata": {
        "colab": {
          "base_uri": "https://localhost:8080/"
        },
        "id": "4pYH_eRw5-6A",
        "outputId": "b3ea2d9c-0368-4091-d6ef-b5d1c661675b"
      },
      "execution_count": null,
      "outputs": [
        {
          "output_type": "stream",
          "name": "stdout",
          "text": [
            "Looking in indexes: https://pypi.org/simple, https://us-python.pkg.dev/colab-wheels/public/simple/\n",
            "Collecting Crypto\n",
            "  Downloading crypto-1.4.1-py2.py3-none-any.whl (18 kB)\n",
            "Collecting shellescape\n",
            "  Downloading shellescape-3.8.1-py2.py3-none-any.whl (3.1 kB)\n",
            "Collecting Naked\n",
            "  Downloading Naked-0.1.32-py2.py3-none-any.whl (587 kB)\n",
            "\u001b[2K     \u001b[90m━━━━━━━━━━━━━━━━━━━━━━━━━━━━━━━━━━━━━━━\u001b[0m \u001b[32m587.7/587.7 KB\u001b[0m \u001b[31m9.7 MB/s\u001b[0m eta \u001b[36m0:00:00\u001b[0m\n",
            "\u001b[?25hRequirement already satisfied: requests in /usr/local/lib/python3.9/dist-packages (from Naked->Crypto) (2.27.1)\n",
            "Requirement already satisfied: pyyaml in /usr/local/lib/python3.9/dist-packages (from Naked->Crypto) (6.0)\n",
            "Requirement already satisfied: idna<4,>=2.5 in /usr/local/lib/python3.9/dist-packages (from requests->Naked->Crypto) (3.4)\n",
            "Requirement already satisfied: certifi>=2017.4.17 in /usr/local/lib/python3.9/dist-packages (from requests->Naked->Crypto) (2022.12.7)\n",
            "Requirement already satisfied: charset-normalizer~=2.0.0 in /usr/local/lib/python3.9/dist-packages (from requests->Naked->Crypto) (2.0.12)\n",
            "Requirement already satisfied: urllib3<1.27,>=1.21.1 in /usr/local/lib/python3.9/dist-packages (from requests->Naked->Crypto) (1.26.15)\n",
            "Installing collected packages: shellescape, Naked, Crypto\n",
            "Successfully installed Crypto-1.4.1 Naked-0.1.32 shellescape-3.8.1\n"
          ]
        }
      ]
    },
    {
      "cell_type": "code",
      "source": [
        "!pip install Crypto.Cipher"
      ],
      "metadata": {
        "colab": {
          "base_uri": "https://localhost:8080/"
        },
        "id": "XbiQfO8H6C3F",
        "outputId": "cb92f982-cc56-430b-d6a3-155207677f58"
      },
      "execution_count": null,
      "outputs": [
        {
          "output_type": "stream",
          "name": "stdout",
          "text": [
            "Looking in indexes: https://pypi.org/simple, https://us-python.pkg.dev/colab-wheels/public/simple/\n",
            "Collecting Crypto.Cipher\n",
            "  Downloading Crypto.Cipher-1-py3-none-any.whl (1.3 kB)\n",
            "Requirement already satisfied: requests in /usr/local/lib/python3.9/dist-packages (from Crypto.Cipher) (2.27.1)\n",
            "Requirement already satisfied: charset-normalizer~=2.0.0 in /usr/local/lib/python3.9/dist-packages (from requests->Crypto.Cipher) (2.0.12)\n",
            "Requirement already satisfied: idna<4,>=2.5 in /usr/local/lib/python3.9/dist-packages (from requests->Crypto.Cipher) (3.4)\n",
            "Requirement already satisfied: certifi>=2017.4.17 in /usr/local/lib/python3.9/dist-packages (from requests->Crypto.Cipher) (2022.12.7)\n",
            "Requirement already satisfied: urllib3<1.27,>=1.21.1 in /usr/local/lib/python3.9/dist-packages (from requests->Crypto.Cipher) (1.26.15)\n",
            "Installing collected packages: Crypto.Cipher\n",
            "Successfully installed Crypto.Cipher-1\n"
          ]
        }
      ]
    },
    {
      "cell_type": "code",
      "source": [
        "pip install Crypto"
      ],
      "metadata": {
        "colab": {
          "base_uri": "https://localhost:8080/"
        },
        "id": "51qfC85h6F1J",
        "outputId": "23e94b8d-49e1-4e2f-bce8-29c9f2c081ee"
      },
      "execution_count": null,
      "outputs": [
        {
          "output_type": "stream",
          "name": "stdout",
          "text": [
            "Looking in indexes: https://pypi.org/simple, https://us-python.pkg.dev/colab-wheels/public/simple/\n",
            "Requirement already satisfied: Crypto in /usr/local/lib/python3.9/dist-packages (1.4.1)\n",
            "Requirement already satisfied: shellescape in /usr/local/lib/python3.9/dist-packages (from Crypto) (3.8.1)\n",
            "Requirement already satisfied: Naked in /usr/local/lib/python3.9/dist-packages (from Crypto) (0.1.32)\n",
            "Requirement already satisfied: requests in /usr/local/lib/python3.9/dist-packages (from Naked->Crypto) (2.27.1)\n",
            "Requirement already satisfied: pyyaml in /usr/local/lib/python3.9/dist-packages (from Naked->Crypto) (6.0)\n",
            "Requirement already satisfied: certifi>=2017.4.17 in /usr/local/lib/python3.9/dist-packages (from requests->Naked->Crypto) (2022.12.7)\n",
            "Requirement already satisfied: urllib3<1.27,>=1.21.1 in /usr/local/lib/python3.9/dist-packages (from requests->Naked->Crypto) (1.26.15)\n",
            "Requirement already satisfied: idna<4,>=2.5 in /usr/local/lib/python3.9/dist-packages (from requests->Naked->Crypto) (3.4)\n",
            "Requirement already satisfied: charset-normalizer~=2.0.0 in /usr/local/lib/python3.9/dist-packages (from requests->Naked->Crypto) (2.0.12)\n"
          ]
        }
      ]
    },
    {
      "cell_type": "code",
      "source": [
        "from scipy.io import wavfile\n",
        "import numpy as np\n",
        "import matplotlib.pyplot as plt\n",
        "import math\n",
        "import sounddevice as sd\n",
        "import random\n",
        "import string"
      ],
      "metadata": {
        "id": "oZrghcOZ6OPQ"
      },
      "execution_count": null,
      "outputs": []
    },
    {
      "cell_type": "markdown",
      "source": [
        "creating a .wav file with riff header"
      ],
      "metadata": {
        "id": "6dY3uhNcGe1c"
      }
    },
    {
      "cell_type": "code",
      "source": [
        "import wave\n",
        "\n",
        "# Set the parameters for the new WAV file\n",
        "num_channels = 1\n",
        "sample_width = 2  # 16-bit samples\n",
        "sampling_rate = 44100  # 44.1 kHz\n",
        "num_frames = 0  # Set to 0 to allow writing of an unspecified number of frames\n",
        "compression_type = 'NONE'\n",
        "compression_name = 'not compressed'\n",
        "\n",
        "# Create a new WAV file with a valid RIFF header\n",
        "with wave.open('output_file.wav', 'wb') as wav_file:\n",
        "    wav_file.setparams((num_channels, sample_width, sampling_rate, num_frames, compression_type, compression_name))\n",
        "    wav_file.writeframes(b'RIFF----WAVEfmt \\x10\\x00\\x00\\x00\\x01\\x00\\x01\\x00'\n",
        "                         b'\\x44\\xac\\x00\\x00\\x88\\x58\\x01\\x00\\x02\\x00\\x10\\x00data\\x00\\x00\\x00\\x00')\n"
      ],
      "metadata": {
        "id": "ETI2cJXTHLPv"
      },
      "execution_count": null,
      "outputs": []
    },
    {
      "cell_type": "markdown",
      "source": [
        "Giving input for AES"
      ],
      "metadata": {
        "id": "aqm-p7feYune"
      }
    },
    {
      "cell_type": "code",
      "source": [
        "fs, data = wavfile.read('output_file.wav')\n",
        "plt.plot(data) # fs = sampling frequency = 44.1kHz\n",
        "plt.title(\"Original Audio Plot\")"
      ],
      "metadata": {
        "colab": {
          "base_uri": "https://localhost:8080/",
          "height": 299
        },
        "id": "7OT2VBDi68sw",
        "outputId": "aab683d8-537b-40e9-b4ab-749d23d697a9"
      },
      "execution_count": null,
      "outputs": [
        {
          "output_type": "execute_result",
          "data": {
            "text/plain": [
              "Text(0.5, 1.0, 'Original Audio Plot')"
            ]
          },
          "metadata": {},
          "execution_count": 85
        },
        {
          "output_type": "display_data",
          "data": {
            "text/plain": [
              "<Figure size 432x288 with 1 Axes>"
            ],
            "image/png": "[encoded data removed]"
          },
          "metadata": {
            "needs_background": "light"
          }
        }
      ]
    },
    {
      "cell_type": "code",
      "source": [
        "import random"
      ],
      "metadata": {
        "id": "1Ax9Uwpm7BN2"
      },
      "execution_count": null,
      "outputs": []
    },
    {
      "cell_type": "markdown",
      "source": [
        "Generation of key using AES"
      ],
      "metadata": {
        "id": "mX6pcqkuYy9n"
      }
    },
    {
      "cell_type": "code",
      "source": [
        "AES_KEY = ''.join(random.choice(string.ascii_uppercase + string.ascii_lowercase + string.digits) for x in range(16))\n",
        "AES_IV = ''.join(random.choice(string.ascii_uppercase + string.ascii_lowercase + string.digits) for x in range(16))"
      ],
      "metadata": {
        "id": "56UFDjrQ7E2g"
      },
      "execution_count": null,
      "outputs": []
    },
    {
      "cell_type": "code",
      "source": [
        "print(\"AES Key is \", AES_KEY)\n",
        "print(\"AES Initialization vector is \", AES_IV)"
      ],
      "metadata": {
        "colab": {
          "base_uri": "https://localhost:8080/"
        },
        "id": "DNYji1TR7ID2",
        "outputId": "eee7d2a8-f3b1-43a2-e39e-5bd7882da198"
      },
      "execution_count": null,
      "outputs": [
        {
          "output_type": "stream",
          "name": "stdout",
          "text": [
            "AES Key is  Pw1iOaLMLGJNHPt6\n",
            "AES Initialization vector is  fBwLocf7ukcxracl\n"
          ]
        }
      ]
    },
    {
      "cell_type": "code",
      "source": [
        "import binascii,os\n",
        "\n",
        "def aes_encrypt(plaintext):\n",
        "    key = \"00112233445566778899aabbccddeeff\"\n",
        "    iv = os.urandom(16)\n",
        "    aes_mode = AES.MODE_CBC\n",
        "    obj = AES.new(key, aes_mode, iv)\n",
        "    ciphertext = obj.encrypt(plaintext)\n",
        "    return ciphertext"
      ],
      "metadata": {
        "id": "71B1mKDr7K-U"
      },
      "execution_count": null,
      "outputs": []
    },
    {
      "cell_type": "code",
      "source": [
        "import codecs\n",
        "import os\n"
      ],
      "metadata": {
        "id": "Gx1qZLyj7OPG"
      },
      "execution_count": null,
      "outputs": []
    },
    {
      "cell_type": "code",
      "source": [
        "pip install pycryptodome"
      ],
      "metadata": {
        "colab": {
          "base_uri": "https://localhost:8080/"
        },
        "id": "N2rpWNAF8JYc",
        "outputId": "59fab0d0-9571-4c2b-a763-fa804a106096"
      },
      "execution_count": null,
      "outputs": [
        {
          "output_type": "stream",
          "name": "stdout",
          "text": [
            "Looking in indexes: https://pypi.org/simple, https://us-python.pkg.dev/colab-wheels/public/simple/\n",
            "Requirement already satisfied: pycryptodome in /usr/local/lib/python3.9/dist-packages (3.17)\n"
          ]
        }
      ]
    },
    {
      "cell_type": "code",
      "source": [
        "from Crypto.Cipher import AES"
      ],
      "metadata": {
        "id": "oON_r5o58SUQ"
      },
      "execution_count": null,
      "outputs": []
    },
    {
      "cell_type": "markdown",
      "source": [
        "Encryption using AES"
      ],
      "metadata": {
        "id": "lS7juXwSY7fP"
      }
    },
    {
      "cell_type": "code",
      "source": [
        "\n",
        "AES_KEY = \"Pw1iOaLMLGJNHPt6\"\n",
        "AES_IV = os.urandom(16)  # Generate a new 16-byte IV\n",
        "\n",
        "contents = \"output_file.wav\"\n",
        "contents_bytes = contents.encode(\"utf-8\")\n",
        "\n",
        "encryptor = AES.new(AES_KEY.encode(\"utf-8\"), AES.MODE_CFB, AES_IV)\n",
        "\n",
        "encrypted_audio = encryptor.encrypt(contents_bytes)"
      ],
      "metadata": {
        "id": "It7A7LMS7hqQ"
      },
      "execution_count": null,
      "outputs": []
    },
    {
      "cell_type": "code",
      "source": [
        "with open('encrypted_audio_file.wav', 'wb') as fd:\n",
        " fd.write(encrypted_audio)\n",
        "print(\"A file titled 'encrypted_audio_file.wav' is generated\")"
      ],
      "metadata": {
        "colab": {
          "base_uri": "https://localhost:8080/"
        },
        "id": "PKY5lrGD8ZZy",
        "outputId": "b3b3f946-278b-43ea-a166-8255a1f7b798"
      },
      "execution_count": null,
      "outputs": [
        {
          "output_type": "stream",
          "name": "stdout",
          "text": [
            "A file titled 'encrypted_audio_file.wav' is generated\n"
          ]
        }
      ]
    },
    {
      "cell_type": "code",
      "source": [
        "with open('encrypted_audio_file.wav', 'rb') as fd:\n",
        " contents = fd.read()\n",
        " print(contents)"
      ],
      "metadata": {
        "colab": {
          "base_uri": "https://localhost:8080/"
        },
        "id": "pHZOzDaG8csF",
        "outputId": "c1b81739-3a48-4c44-ceb5-ec2330d0a3a0"
      },
      "execution_count": null,
      "outputs": [
        {
          "output_type": "stream",
          "name": "stdout",
          "text": [
            "b'u\\x82\\xa2\\x08\\xcdI\\x1a\\xca\\xe1\\xb3\\xd9\\xda\\xed\\xbf\\x8e'\n"
          ]
        }
      ]
    },
    {
      "cell_type": "code",
      "source": [
        "fs, data = wavfile.read('output_file.wav')\n",
        "k = np.asarray(data, dtype = np.int32)\n",
        "print(k)"
      ],
      "metadata": {
        "colab": {
          "base_uri": "https://localhost:8080/"
        },
        "id": "Q_X15QOB8RCj",
        "outputId": "fc4b2d74-c7d0-4017-c0b7-b746c47f5f22"
      },
      "execution_count": null,
      "outputs": [
        {
          "output_type": "stream",
          "name": "stdout",
          "text": [
            "[ 18770  17990  11565  11565  16727  17750  28006   8308     16      0\n",
            "      1      1 -21436      0  22664      1      2     16  24932  24948\n",
            "      0      0]\n"
          ]
        }
      ]
    },
    {
      "cell_type": "markdown",
      "source": [
        "Generating pubic and private key"
      ],
      "metadata": {
        "id": "DuRQL_5sY_pD"
      }
    },
    {
      "cell_type": "code",
      "source": [
        "p1 = int(input(\"Enter first prime number: \"))\n",
        "p2 = int(input(\"Enter second prime number: \"))\n",
        "p3 = int(input(\"Enter third prime number: \"))\n",
        "p4 = int(input(\"Enter forth prime number: \"))\n",
        "n = p1*p2*p3*p4\n",
        "print(\"n = p1*p2 = \",n)\n",
        "e = int(input(\"Enter a small, odd number, co-prime with n: \"))\n",
        "K = int(input(\"Enter value of k:\"))\n",
        "phi = (p1-1)*(p2-1)*(p3-1)*(p4-1)\n",
        "print(\"phi = \",phi)\n",
        "d = int((K*phi+1)/e)\n",
        "print(\"d= \",d)\n",
        "public_key = n,e\n",
        "private_key = n,d\n",
        "print(\"Public Key = \", public_key)\n",
        "print(\"Private Key = \",private_key)"
      ],
      "metadata": {
        "colab": {
          "base_uri": "https://localhost:8080/"
        },
        "id": "QAUxmJQY8jds",
        "outputId": "fdfe87de-52d1-487e-b683-89aa29c2f6d1"
      },
      "execution_count": null,
      "outputs": [
        {
          "output_type": "stream",
          "name": "stdout",
          "text": [
            "Enter first prime number: 2\n",
            "Enter second prime number: 3\n",
            "Enter third prime number: 5\n",
            "Enter forth prime number: 7\n",
            "n = p1*p2 =  210\n",
            "Enter a small, odd number, co-prime with n: 3\n",
            "Enter value of k:5\n",
            "phi =  48\n",
            "d=  80\n",
            "Public Key =  (210, 3)\n",
            "Private Key =  (210, 80)\n"
          ]
        }
      ]
    },
    {
      "cell_type": "markdown",
      "source": [
        "write the encrypted file into an audio file"
      ],
      "metadata": {
        "id": "k6h3urPuZG2i"
      }
    },
    {
      "cell_type": "code",
      "source": [
        "encrypted=[]\n",
        "for i in data:\n",
        " encrypted.append((i**e)%n)\n",
        "#encrypted = (data**e)%n\n",
        "#print(encrypted)\n",
        "plt.plot(encrypted)\n",
        "plt.title(\"Encrypted Audio Plot\")"
      ],
      "metadata": {
        "colab": {
          "base_uri": "https://localhost:8080/",
          "height": 299
        },
        "id": "l0zFp8N08uDw",
        "outputId": "8480bc38-9631-4cd1-a1d9-e8db9717e5db"
      },
      "execution_count": null,
      "outputs": [
        {
          "output_type": "execute_result",
          "data": {
            "text/plain": [
              "Text(0.5, 1.0, 'Encrypted Audio Plot')"
            ]
          },
          "metadata": {},
          "execution_count": 114
        },
        {
          "output_type": "display_data",
          "data": {
            "text/plain": [
              "<Figure size 432x288 with 1 Axes>"
            ],
            "image/png": "[encoded data removed]"
          },
          "metadata": {
            "needs_background": "light"
          }
        }
      ]
    },
    {
      "cell_type": "code",
      "source": [
        "with open('encrypted_audio_file.wav', 'wb') as fd:\n",
        " fd.write(encrypted_audio)\n",
        "print(\"A file titled 'encrypted_audio_file.wav' is generated\")"
      ],
      "metadata": {
        "colab": {
          "base_uri": "https://localhost:8080/"
        },
        "id": "lQ2y1mUO80PK",
        "outputId": "e650e393-f582-44ed-bf1d-37b8f73347c7"
      },
      "execution_count": null,
      "outputs": [
        {
          "output_type": "stream",
          "name": "stdout",
          "text": [
            "A file titled 'encrypted_audio_file.wav' is generated\n"
          ]
        }
      ]
    },
    {
      "cell_type": "markdown",
      "source": [
        "Decryption"
      ],
      "metadata": {
        "id": "jJ3mqfPaZOdb"
      }
    },
    {
      "cell_type": "code",
      "source": [
        "'''fs, Data = wavfile.read('encrypted_audio_file.wav')\n",
        "plt.plot(Data)\n",
        "print(Data)\n",
        "ke = np.asarray(Data, dtype = np.int32)'''"
      ],
      "metadata": {
        "colab": {
          "base_uri": "https://localhost:8080/",
          "height": 53
        },
        "id": "9wocYaFE82h8",
        "outputId": "a11a96e1-3bae-4f9c-901d-03b53962d1f9"
      },
      "execution_count": null,
      "outputs": [
        {
          "output_type": "execute_result",
          "data": {
            "text/plain": [
              "\"fs, Data = wavfile.read('encrypted_audio_file.wav')\\nplt.plot(Data)\\nprint(Data)\\nke = np.asarray(Data, dtype = np.int32)\""
            ],
            "application/vnd.google.colaboratory.intrinsic+json": {
              "type": "string"
            }
          },
          "metadata": {},
          "execution_count": 116
        }
      ]
    },
    {
      "cell_type": "code",
      "source": [
        "MAX=100000\n",
        "def multiply(x, res, res_size):\n",
        "  carry = 0\n",
        "  for i in range(res_size):\n",
        "          prod = res[i] * x + carry\n",
        "          res[i] = prod % 10\n",
        "          carry = prod // 10\n",
        "  while (carry):\n",
        "         res[res_size] = carry % 10\n",
        "         carry = carry // 10\n",
        "         res_size+=1\n",
        "  return res_size\n",
        "\n",
        "  def power(x,n):\n",
        "        if (n == 0) :\n",
        "               print(\"1\")\n",
        "               return\n",
        "        res=[0 for i in range(MAX)]\n",
        "        res_size = 0\n",
        "        temp = x\n",
        "# Initialize result\n",
        "        while (temp != 0):\n",
        "              res[res_size] = temp % 10;\n",
        "              res_size+=1\n",
        "              temp = temp // 10\n",
        "        for i in range(2, n + 1):\n",
        "              res_size = multiply(x, res, res_size)\n",
        "        print(x , \"^\" , n , \" = \",end=\"\")\n",
        "        for i in range(res_size - 1, -1, -1):\n",
        "               print(res[i], end=\"\")\n",
        "\n",
        "\n",
        "decrypted = (data**d)%n\n",
        "plt.plot(decrypted)\n",
        "print(decrypted)\n",
        "plt.title('Decrypted Audio Plot(After MRSA)')\n"
      ],
      "metadata": {
        "colab": {
          "base_uri": "https://localhost:8080/",
          "height": 317
        },
        "id": "66vXVykg86Uw",
        "outputId": "359bfce3-31a1-468e-da0d-1d390a522bb2"
      },
      "execution_count": null,
      "outputs": [
        {
          "output_type": "stream",
          "name": "stdout",
          "text": [
            "[ 0  0 75 75 57  0  0  0  0  0  1  1  0  0  0  1  0  0  0  0  0  0]\n"
          ]
        },
        {
          "output_type": "execute_result",
          "data": {
            "text/plain": [
              "Text(0.5, 1.0, 'Decrypted Audio Plot(After MRSA)')"
            ]
          },
          "metadata": {},
          "execution_count": 117
        },
        {
          "output_type": "display_data",
          "data": {
            "text/plain": [
              "<Figure size 432x288 with 1 Axes>"
            ],
            "image/png": "[encoded data removed]"
          },
          "metadata": {
            "needs_background": "light"
          }
        }
      ]
    },
    {
      "cell_type": "markdown",
      "source": [
        "writing the decrypted file into an audio file"
      ],
      "metadata": {
        "id": "iwRNOmRrZTYN"
      }
    },
    {
      "cell_type": "code",
      "source": [
        "encrypted = np.asarray(encrypted,dtype=np.int16)\n",
        "wavfile.write('decrypted.wav',fs,encrypted)\n",
        "print(\"A file titled 'decrypted.wav' is generated which is analog of the audio\")"
      ],
      "metadata": {
        "colab": {
          "base_uri": "https://localhost:8080/"
        },
        "id": "zUNBu3XJ885t",
        "outputId": "b9968867-4d44-4f34-85b0-929aa43fa01e"
      },
      "execution_count": null,
      "outputs": [
        {
          "output_type": "stream",
          "name": "stdout",
          "text": [
            "A file titled 'decrypted.wav' is generated which is analog of the audio\n"
          ]
        }
      ]
    },
    {
      "cell_type": "code",
      "source": [
        "with open('encrypted_audio_file.wav', 'rb') as fd:\n",
        " contents = fd.read()\n",
        " print(contents)"
      ],
      "metadata": {
        "id": "iGlkZgFo9AOI",
        "colab": {
          "base_uri": "https://localhost:8080/"
        },
        "outputId": "ff43a44d-0da5-4b4a-dca0-bed2d18a1b40"
      },
      "execution_count": null,
      "outputs": [
        {
          "output_type": "stream",
          "name": "stdout",
          "text": [
            "b'u\\x82\\xa2\\x08\\xcdI\\x1a\\xca\\xe1\\xb3\\xd9\\xda\\xed\\xbf\\x8e'\n"
          ]
        }
      ]
    },
    {
      "cell_type": "code",
      "source": [
        "import os\n",
        "from Crypto.Cipher import AES"
      ],
      "metadata": {
        "id": "NumdUZLo0r3o"
      },
      "execution_count": null,
      "outputs": []
    },
    {
      "cell_type": "code",
      "source": [
        "import wave\n",
        "from Crypto.Cipher import AES\n",
        "import matplotlib.pyplot as plt\n",
        "import numpy as np\n",
        "import os\n",
        "\n",
        "# Define the AES key and initialization vector (IV)\n",
        "AES_KEY = \"Pw1iOaLMLGJNHPt6\"\n",
        "AES_IV = os.urandom(16)\n",
        "\n",
        "# Open the encrypted .wav file\n",
        "with wave.open('decrypted.wav', 'rb') as encrypted_wav:\n",
        "    # Read the encrypted data from the .wav file\n",
        "    encrypted_data = encrypted_wav.readframes(encrypted_wav.getnframes())\n",
        "\n",
        "# Create an AES decryption object with the key and IV\n",
        "decryptor = AES.new(AES_KEY.encode(\"utf-8\"), AES.MODE_CFB, AES_IV)\n",
        "\n",
        "decrypted_audio = decryptor.decrypt(contents_bytes)\n",
        "#decryptor = AES.new(AES_KEY, AES.MODE_CBC, AES_IV)\n",
        "\n",
        "# Decrypt the data\n",
        "decrypted_data = decryptor.decrypt(encrypted_data)\n",
        "\n",
        "# Convert the decrypted data to a numpy array\n",
        "audio_data = np.frombuffer(decrypted_data, dtype=np.int16)\n",
        "\n",
        "# Plot the audio data\n",
        "plt.plot(audio_data)\n",
        "plt.title(\"Final Decrypted Audio Plot\")\n",
        "plt.show()\n"
      ],
      "metadata": {
        "colab": {
          "base_uri": "https://localhost:8080/",
          "height": 281
        },
        "id": "9dF_wSAWFDa2",
        "outputId": "73685dde-6bf8-43d6-ab13-7e1be4faa2c8"
      },
      "execution_count": null,
      "outputs": [
        {
          "output_type": "display_data",
          "data": {
            "text/plain": [
              "<Figure size 432x288 with 1 Axes>"
            ],
            "image/png": "[encoded data removed]"
          },
          "metadata": {
            "needs_background": "light"
          }
        }
      ]
    }
  ]
}